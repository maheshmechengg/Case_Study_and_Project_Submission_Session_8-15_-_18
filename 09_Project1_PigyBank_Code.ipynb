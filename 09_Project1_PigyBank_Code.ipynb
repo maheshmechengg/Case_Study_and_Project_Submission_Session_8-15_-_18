{
 "cells": [
  {
   "cell_type": "markdown",
   "metadata": {},
   "source": [
    "# Pigy Bank Software"
   ]
  },
  {
   "cell_type": "code",
   "execution_count": 2,
   "metadata": {},
   "outputs": [
    {
     "name": "stdout",
     "output_type": "stream",
     "text": [
      "Welcome to the Piggy Bank!\n",
      "Start or End: Start\n",
      "Add, Withdraw or Check: Add\n",
      "How many rupees would you like to deposit?: 1300\n",
      "There are 1300 Rupees in your bank\n",
      "Start or End: Start\n",
      "Add, Withdraw or Check: Withdraw\n",
      "How many rupees would you like to withdraw?: 100\n",
      "There are 1200 Rupees in your bank\n",
      "Start or End: Start\n",
      "Add, Withdraw or Check: Check\n",
      "There are 1200 Rupees in your bank\n",
      "None\n"
     ]
    }
   ],
   "source": [
    "import mypiggy_bank"
   ]
  },
  {
   "cell_type": "code",
   "execution_count": 3,
   "metadata": {},
   "outputs": [
    {
     "name": "stdout",
     "output_type": "stream",
     "text": [
      "Start or End: Start\n",
      "Add, Withdraw or Check: Check\n",
      "There are 1200 Rupees in your bank\n"
     ]
    }
   ],
   "source": [
    "#Added feature to read from previous balance\n",
    "mypiggy_bank.transact()"
   ]
  },
  {
   "cell_type": "markdown",
   "metadata": {},
   "source": [
    "## Thank you!!!"
   ]
  }
 ],
 "metadata": {
  "kernelspec": {
   "display_name": "Python 3",
   "language": "python",
   "name": "python3"
  },
  "language_info": {
   "codemirror_mode": {
    "name": "ipython",
    "version": 3
   },
   "file_extension": ".py",
   "mimetype": "text/x-python",
   "name": "python",
   "nbconvert_exporter": "python",
   "pygments_lexer": "ipython3",
   "version": "3.7.3"
  }
 },
 "nbformat": 4,
 "nbformat_minor": 2
}
