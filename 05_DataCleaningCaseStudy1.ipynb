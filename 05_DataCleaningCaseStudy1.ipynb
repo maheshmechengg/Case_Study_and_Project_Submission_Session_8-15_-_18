{
 "cells": [
  {
   "cell_type": "markdown",
   "metadata": {},
   "source": [
    "# This case study consists of 1000 marks and the solution file is expected to be submitted in the upcoming session for evaluation."
   ]
  },
  {
   "cell_type": "code",
   "execution_count": null,
   "metadata": {},
   "outputs": [],
   "source": [
    "Data wrangling / Data munging\n",
    "\n",
    "Data wrangling , sometimes referred to as data munging, is the process of transforming and mapping data from one \"raw\" data \n",
    "form into another format with the intent of making it more appropriate and valuable for a variety of downstream purposes \n",
    "such as analytics.\n",
    "\n",
    "The data transformations are typically applied to distinct entities (e.g. fields, rows, columns, data values etc.) within \n",
    "a data set, and could include such actions as extractions, parsing, joining, standardizing, augmenting, cleansing, \n",
    "consolidating and filtering to create desired wrangling outputs that can be leveraged downstream.\n",
    "\n",
    "The recipients could be individuals, such as data architects or data scientists who will investigate the data further, \n",
    "business users who will consume the data directly in reports, or systems that will further process the data and write it \n",
    "into targets such as data warehouses, data lakes or downstream applications.\n",
    "\n",
    "Data munging broadly consists of following steps :\n",
    "\n",
    "* Data Ingestion\n",
    "* Data merging\n",
    "* Quick data exploration\n",
    "* Checking initial stats of the data\n",
    "* Cleaning the data \n",
    "    * check for missing values\n",
    "    * Treat missing values\n",
    "    * check for inconsistencies in names / values across data columns\n",
    "    * Treat data inconsistencies\n",
    "    * renaming columns names\n",
    "    * introduce new columns after cleaning\n",
    "* Exploratory Data Analysis (EDA)\n",
    "    * Data visualisation\n",
    "    * Data distribution checking\n",
    "    * Detailed data stats study\n",
    "    * Check and treat outliers\n",
    "* Feature engineering \n",
    "    * Binning\n",
    "    * categorical features to one hot feature conversion\n",
    "    * categorical features to factorized features\n",
    "    * creating interactive features\n",
    "    * creating polynomial features\n",
    "    * deriving features\n",
    "    * acquiring more features\n",
    "* Preprocesssing \n",
    "    * feature scaling\n",
    "    * feature normalization \n",
    "    * training data format changing as per ML algo "
   ]
  },
  {
   "cell_type": "markdown",
   "metadata": {},
   "source": [
    "## Import libraries"
   ]
  },
  {
   "cell_type": "code",
   "execution_count": 1,
   "metadata": {},
   "outputs": [],
   "source": [
    "import pandas as pd\n",
    "import numpy as np"
   ]
  },
  {
   "cell_type": "markdown",
   "metadata": {},
   "source": [
    "## Data input"
   ]
  },
  {
   "cell_type": "code",
   "execution_count": 2,
   "metadata": {},
   "outputs": [],
   "source": [
    "# Download\n",
    "DATASET = (\n",
    "    \"http://archive.ics.uci.edu/ml/machine-learning-databases/adult/adult.data\",\n",
    "    \"http://archive.ics.uci.edu/ml/machine-learning-databases/adult/adult.names\",\n",
    "    \"http://archive.ics.uci.edu/ml/machine-learning-databases/adult/adult.test\",\n",
    ")"
   ]
  },
  {
   "cell_type": "code",
   "execution_count": 3,
   "metadata": {},
   "outputs": [],
   "source": [
    "# Load Training and Test Data Sets\n",
    "headers = ['age', 'workclass', 'fnlwgt', \n",
    "           'education', 'education-num', \n",
    "           'marital-status', 'occupation', \n",
    "           'relationship', 'race', 'sex', \n",
    "           'capital-gain', 'capital-loss', \n",
    "           'hours-per-week', 'native-country', \n",
    "           'predclass']\n",
    "training_raw = pd.read_csv('http://archive.ics.uci.edu/ml/machine-learning-databases/adult/adult.data', \n",
    "                       header=None, \n",
    "                       names=headers,na_values=[\"?\"])\n",
    "test_raw = pd.read_csv('http://archive.ics.uci.edu/ml/machine-learning-databases/adult/adult.test', \n",
    "                      header=None, \n",
    "                      names=headers,na_values=[\"?\"])"
   ]
  },
  {
   "cell_type": "code",
   "execution_count": 4,
   "metadata": {},
   "outputs": [],
   "source": [
    "# Join Datasets\n",
    "dataset_raw = training_raw.append(test_raw)\n",
    "dataset_raw.reset_index(inplace=True)\n",
    "dataset_raw.drop('index',inplace=True,axis=1)"
   ]
  },
  {
   "cell_type": "markdown",
   "metadata": {},
   "source": [
    "## Data intial stats checking"
   ]
  },
  {
   "cell_type": "code",
   "execution_count": 5,
   "metadata": {},
   "outputs": [
    {
     "name": "stdout",
     "output_type": "stream",
     "text": [
      "<class 'pandas.core.frame.DataFrame'>\n",
      "RangeIndex: 48843 entries, 0 to 48842\n",
      "Data columns (total 15 columns):\n",
      "age               48843 non-null object\n",
      "workclass         48842 non-null object\n",
      "fnlwgt            48842 non-null float64\n",
      "education         48842 non-null object\n",
      "education-num     48842 non-null float64\n",
      "marital-status    48842 non-null object\n",
      "occupation        48842 non-null object\n",
      "relationship      48842 non-null object\n",
      "race              48842 non-null object\n",
      "sex               48842 non-null object\n",
      "capital-gain      48842 non-null float64\n",
      "capital-loss      48842 non-null float64\n",
      "hours-per-week    48842 non-null float64\n",
      "native-country    48842 non-null object\n",
      "predclass         48842 non-null object\n",
      "dtypes: float64(5), object(10)\n",
      "memory usage: 5.6+ MB\n"
     ]
    }
   ],
   "source": [
    "dataset_raw.info()"
   ]
  },
  {
   "cell_type": "code",
   "execution_count": 6,
   "metadata": {},
   "outputs": [
    {
     "data": {
      "text/html": [
       "<div>\n",
       "<style scoped>\n",
       "    .dataframe tbody tr th:only-of-type {\n",
       "        vertical-align: middle;\n",
       "    }\n",
       "\n",
       "    .dataframe tbody tr th {\n",
       "        vertical-align: top;\n",
       "    }\n",
       "\n",
       "    .dataframe thead th {\n",
       "        text-align: right;\n",
       "    }\n",
       "</style>\n",
       "<table border=\"1\" class=\"dataframe\">\n",
       "  <thead>\n",
       "    <tr style=\"text-align: right;\">\n",
       "      <th></th>\n",
       "      <th>fnlwgt</th>\n",
       "      <th>education-num</th>\n",
       "      <th>capital-gain</th>\n",
       "      <th>capital-loss</th>\n",
       "      <th>hours-per-week</th>\n",
       "    </tr>\n",
       "  </thead>\n",
       "  <tbody>\n",
       "    <tr>\n",
       "      <th>count</th>\n",
       "      <td>4.884200e+04</td>\n",
       "      <td>48842.000000</td>\n",
       "      <td>48842.000000</td>\n",
       "      <td>48842.000000</td>\n",
       "      <td>48842.000000</td>\n",
       "    </tr>\n",
       "    <tr>\n",
       "      <th>mean</th>\n",
       "      <td>1.896641e+05</td>\n",
       "      <td>10.078089</td>\n",
       "      <td>1079.067626</td>\n",
       "      <td>87.502314</td>\n",
       "      <td>40.422382</td>\n",
       "    </tr>\n",
       "    <tr>\n",
       "      <th>std</th>\n",
       "      <td>1.056040e+05</td>\n",
       "      <td>2.570973</td>\n",
       "      <td>7452.019058</td>\n",
       "      <td>403.004552</td>\n",
       "      <td>12.391444</td>\n",
       "    </tr>\n",
       "    <tr>\n",
       "      <th>min</th>\n",
       "      <td>1.228500e+04</td>\n",
       "      <td>1.000000</td>\n",
       "      <td>0.000000</td>\n",
       "      <td>0.000000</td>\n",
       "      <td>1.000000</td>\n",
       "    </tr>\n",
       "    <tr>\n",
       "      <th>25%</th>\n",
       "      <td>1.175505e+05</td>\n",
       "      <td>9.000000</td>\n",
       "      <td>0.000000</td>\n",
       "      <td>0.000000</td>\n",
       "      <td>40.000000</td>\n",
       "    </tr>\n",
       "    <tr>\n",
       "      <th>50%</th>\n",
       "      <td>1.781445e+05</td>\n",
       "      <td>10.000000</td>\n",
       "      <td>0.000000</td>\n",
       "      <td>0.000000</td>\n",
       "      <td>40.000000</td>\n",
       "    </tr>\n",
       "    <tr>\n",
       "      <th>75%</th>\n",
       "      <td>2.376420e+05</td>\n",
       "      <td>12.000000</td>\n",
       "      <td>0.000000</td>\n",
       "      <td>0.000000</td>\n",
       "      <td>45.000000</td>\n",
       "    </tr>\n",
       "    <tr>\n",
       "      <th>max</th>\n",
       "      <td>1.490400e+06</td>\n",
       "      <td>16.000000</td>\n",
       "      <td>99999.000000</td>\n",
       "      <td>4356.000000</td>\n",
       "      <td>99.000000</td>\n",
       "    </tr>\n",
       "  </tbody>\n",
       "</table>\n",
       "</div>"
      ],
      "text/plain": [
       "             fnlwgt  education-num  capital-gain  capital-loss  hours-per-week\n",
       "count  4.884200e+04   48842.000000  48842.000000  48842.000000    48842.000000\n",
       "mean   1.896641e+05      10.078089   1079.067626     87.502314       40.422382\n",
       "std    1.056040e+05       2.570973   7452.019058    403.004552       12.391444\n",
       "min    1.228500e+04       1.000000      0.000000      0.000000        1.000000\n",
       "25%    1.175505e+05       9.000000      0.000000      0.000000       40.000000\n",
       "50%    1.781445e+05      10.000000      0.000000      0.000000       40.000000\n",
       "75%    2.376420e+05      12.000000      0.000000      0.000000       45.000000\n",
       "max    1.490400e+06      16.000000  99999.000000   4356.000000       99.000000"
      ]
     },
     "execution_count": 6,
     "metadata": {},
     "output_type": "execute_result"
    }
   ],
   "source": [
    "# Describing all the Numerical Features\n",
    "dataset_raw.describe()"
   ]
  },
  {
   "cell_type": "code",
   "execution_count": 7,
   "metadata": {},
   "outputs": [
    {
     "data": {
      "text/html": [
       "<div>\n",
       "<style scoped>\n",
       "    .dataframe tbody tr th:only-of-type {\n",
       "        vertical-align: middle;\n",
       "    }\n",
       "\n",
       "    .dataframe tbody tr th {\n",
       "        vertical-align: top;\n",
       "    }\n",
       "\n",
       "    .dataframe thead th {\n",
       "        text-align: right;\n",
       "    }\n",
       "</style>\n",
       "<table border=\"1\" class=\"dataframe\">\n",
       "  <thead>\n",
       "    <tr style=\"text-align: right;\">\n",
       "      <th></th>\n",
       "      <th>age</th>\n",
       "      <th>workclass</th>\n",
       "      <th>education</th>\n",
       "      <th>marital-status</th>\n",
       "      <th>occupation</th>\n",
       "      <th>relationship</th>\n",
       "      <th>race</th>\n",
       "      <th>sex</th>\n",
       "      <th>native-country</th>\n",
       "      <th>predclass</th>\n",
       "    </tr>\n",
       "  </thead>\n",
       "  <tbody>\n",
       "    <tr>\n",
       "      <th>count</th>\n",
       "      <td>48843</td>\n",
       "      <td>48842</td>\n",
       "      <td>48842</td>\n",
       "      <td>48842</td>\n",
       "      <td>48842</td>\n",
       "      <td>48842</td>\n",
       "      <td>48842</td>\n",
       "      <td>48842</td>\n",
       "      <td>48842</td>\n",
       "      <td>48842</td>\n",
       "    </tr>\n",
       "    <tr>\n",
       "      <th>unique</th>\n",
       "      <td>147</td>\n",
       "      <td>9</td>\n",
       "      <td>16</td>\n",
       "      <td>7</td>\n",
       "      <td>15</td>\n",
       "      <td>6</td>\n",
       "      <td>5</td>\n",
       "      <td>2</td>\n",
       "      <td>42</td>\n",
       "      <td>4</td>\n",
       "    </tr>\n",
       "    <tr>\n",
       "      <th>top</th>\n",
       "      <td>36</td>\n",
       "      <td>Private</td>\n",
       "      <td>HS-grad</td>\n",
       "      <td>Married-civ-spouse</td>\n",
       "      <td>Prof-specialty</td>\n",
       "      <td>Husband</td>\n",
       "      <td>White</td>\n",
       "      <td>Male</td>\n",
       "      <td>United-States</td>\n",
       "      <td>&lt;=50K</td>\n",
       "    </tr>\n",
       "    <tr>\n",
       "      <th>freq</th>\n",
       "      <td>898</td>\n",
       "      <td>33906</td>\n",
       "      <td>15784</td>\n",
       "      <td>22379</td>\n",
       "      <td>6172</td>\n",
       "      <td>19716</td>\n",
       "      <td>41762</td>\n",
       "      <td>32650</td>\n",
       "      <td>43832</td>\n",
       "      <td>24720</td>\n",
       "    </tr>\n",
       "  </tbody>\n",
       "</table>\n",
       "</div>"
      ],
      "text/plain": [
       "          age workclass education       marital-status       occupation  \\\n",
       "count   48843     48842     48842                48842            48842   \n",
       "unique    147         9        16                    7               15   \n",
       "top        36   Private   HS-grad   Married-civ-spouse   Prof-specialty   \n",
       "freq      898     33906     15784                22379             6172   \n",
       "\n",
       "       relationship    race    sex  native-country predclass  \n",
       "count         48842   48842  48842           48842     48842  \n",
       "unique            6       5      2              42         4  \n",
       "top         Husband   White   Male   United-States     <=50K  \n",
       "freq          19716   41762  32650           43832     24720  "
      ]
     },
     "execution_count": 7,
     "metadata": {},
     "output_type": "execute_result"
    }
   ],
   "source": [
    "# Describing all the Categorical Features\n",
    "dataset_raw.describe(include=['O'])"
   ]
  },
  {
   "cell_type": "markdown",
   "metadata": {},
   "source": [
    "## Q1) Check for missing values"
   ]
  },
  {
   "cell_type": "code",
   "execution_count": 13,
   "metadata": {},
   "outputs": [
    {
     "data": {
      "text/plain": [
       "age               False\n",
       "workclass          True\n",
       "fnlwgt             True\n",
       "education          True\n",
       "education-num      True\n",
       "marital-status     True\n",
       "occupation         True\n",
       "relationship       True\n",
       "race               True\n",
       "sex                True\n",
       "capital-gain       True\n",
       "capital-loss       True\n",
       "hours-per-week     True\n",
       "native-country     True\n",
       "predclass          True\n",
       "dtype: bool"
      ]
     },
     "execution_count": 13,
     "metadata": {},
     "output_type": "execute_result"
    }
   ],
   "source": [
    "miss_col = (dataset_raw.isnull().any())\n",
    "miss_col"
   ]
  },
  {
   "cell_type": "markdown",
   "metadata": {},
   "source": [
    "## Q2) For columns with missing values, print the number of rows with missing values"
   ]
  },
  {
   "cell_type": "code",
   "execution_count": 47,
   "metadata": {},
   "outputs": [
    {
     "data": {
      "text/plain": [
       "15"
      ]
     },
     "execution_count": 47,
     "metadata": {},
     "output_type": "execute_result"
    }
   ],
   "source": [
    "dataset_raw[dataset_raw.workclass.isnull()==True].shape[1]"
   ]
  },
  {
   "cell_type": "code",
   "execution_count": 46,
   "metadata": {},
   "outputs": [
    {
     "data": {
      "text/plain": [
       "15"
      ]
     },
     "execution_count": 46,
     "metadata": {},
     "output_type": "execute_result"
    }
   ],
   "source": [
    "dataset_raw[dataset_raw.fnlwgt.isnull()==True].shape[1]"
   ]
  },
  {
   "cell_type": "code",
   "execution_count": 48,
   "metadata": {},
   "outputs": [
    {
     "data": {
      "text/plain": [
       "15"
      ]
     },
     "execution_count": 48,
     "metadata": {},
     "output_type": "execute_result"
    }
   ],
   "source": [
    "dataset_raw[dataset_raw.education.isnull()==True].shape[1]"
   ]
  },
  {
   "cell_type": "code",
   "execution_count": 49,
   "metadata": {},
   "outputs": [
    {
     "data": {
      "text/plain": [
       "15"
      ]
     },
     "execution_count": 49,
     "metadata": {},
     "output_type": "execute_result"
    }
   ],
   "source": [
    "dataset_raw[dataset_raw[\"education-num\"].isnull()==True].shape[1]"
   ]
  },
  {
   "cell_type": "code",
   "execution_count": 50,
   "metadata": {},
   "outputs": [
    {
     "data": {
      "text/plain": [
       "15"
      ]
     },
     "execution_count": 50,
     "metadata": {},
     "output_type": "execute_result"
    }
   ],
   "source": [
    "dataset_raw[dataset_raw[\"marital-status\"].isnull()==True].shape[1]"
   ]
  },
  {
   "cell_type": "code",
   "execution_count": 51,
   "metadata": {},
   "outputs": [
    {
     "data": {
      "text/plain": [
       "15"
      ]
     },
     "execution_count": 51,
     "metadata": {},
     "output_type": "execute_result"
    }
   ],
   "source": [
    "dataset_raw[dataset_raw[\"occupation\"].isnull()==True].shape[1]"
   ]
  },
  {
   "cell_type": "code",
   "execution_count": 52,
   "metadata": {},
   "outputs": [
    {
     "data": {
      "text/plain": [
       "15"
      ]
     },
     "execution_count": 52,
     "metadata": {},
     "output_type": "execute_result"
    }
   ],
   "source": [
    "dataset_raw[dataset_raw[\"relationship\"].isnull()==True].shape[1]"
   ]
  },
  {
   "cell_type": "code",
   "execution_count": 53,
   "metadata": {},
   "outputs": [
    {
     "data": {
      "text/plain": [
       "15"
      ]
     },
     "execution_count": 53,
     "metadata": {},
     "output_type": "execute_result"
    }
   ],
   "source": [
    "dataset_raw[dataset_raw[\"race\"].isnull()==True].shape[1]"
   ]
  },
  {
   "cell_type": "code",
   "execution_count": 54,
   "metadata": {},
   "outputs": [
    {
     "data": {
      "text/plain": [
       "15"
      ]
     },
     "execution_count": 54,
     "metadata": {},
     "output_type": "execute_result"
    }
   ],
   "source": [
    "dataset_raw[dataset_raw[\"sex\"].isnull()==True].shape[1]"
   ]
  },
  {
   "cell_type": "code",
   "execution_count": 55,
   "metadata": {},
   "outputs": [
    {
     "data": {
      "text/plain": [
       "15"
      ]
     },
     "execution_count": 55,
     "metadata": {},
     "output_type": "execute_result"
    }
   ],
   "source": [
    "dataset_raw[dataset_raw[\"capital-gain\"].isnull()==True].shape[1]"
   ]
  },
  {
   "cell_type": "code",
   "execution_count": 56,
   "metadata": {},
   "outputs": [
    {
     "data": {
      "text/plain": [
       "15"
      ]
     },
     "execution_count": 56,
     "metadata": {},
     "output_type": "execute_result"
    }
   ],
   "source": [
    "dataset_raw[dataset_raw[\"capital-loss\"].isnull()==True].shape[1]"
   ]
  },
  {
   "cell_type": "code",
   "execution_count": 57,
   "metadata": {},
   "outputs": [
    {
     "data": {
      "text/plain": [
       "15"
      ]
     },
     "execution_count": 57,
     "metadata": {},
     "output_type": "execute_result"
    }
   ],
   "source": [
    "dataset_raw[dataset_raw[\"hours-per-week\"].isnull()==True].shape[1]"
   ]
  },
  {
   "cell_type": "code",
   "execution_count": 58,
   "metadata": {},
   "outputs": [
    {
     "data": {
      "text/plain": [
       "15"
      ]
     },
     "execution_count": 58,
     "metadata": {},
     "output_type": "execute_result"
    }
   ],
   "source": [
    "dataset_raw[dataset_raw[\"native-country\"].isnull()==True].shape[1]"
   ]
  },
  {
   "cell_type": "code",
   "execution_count": 59,
   "metadata": {},
   "outputs": [
    {
     "data": {
      "text/plain": [
       "15"
      ]
     },
     "execution_count": 59,
     "metadata": {},
     "output_type": "execute_result"
    }
   ],
   "source": [
    "dataset_raw[dataset_raw[\"predclass\"].isnull()==True].shape[1]"
   ]
  },
  {
   "cell_type": "markdown",
   "metadata": {},
   "source": [
    "## Q3) For columns with missing values, print the percentage of rows with missing values"
   ]
  },
  {
   "cell_type": "code",
   "execution_count": 10,
   "metadata": {},
   "outputs": [],
   "source": [
    "from sklearn.base import TransformerMixin\n",
    "\n",
    "class DataFrameImputer(TransformerMixin):\n",
    "\n",
    "    def __init__(self):\n",
    "        \"\"\"Impute missing values.\n",
    "\n",
    "        Columns of dtype object are imputed with the most frequent value \n",
    "        in column.\n",
    "\n",
    "        Columns of other types are imputed with mean of column.\n",
    "\n",
    "        \"\"\"\n",
    "    def fit(self, X, y=None):\n",
    "\n",
    "        self.fill = pd.Series([X[c].value_counts().index[0]\n",
    "            if X[c].dtype == np.dtype('O') else X[c].mean() for c in X],\n",
    "            index=X.columns)\n",
    "\n",
    "        return self\n",
    "\n",
    "    def transform(self, X, y=None):\n",
    "        return X.fillna(self.fill)"
   ]
  },
  {
   "cell_type": "code",
   "execution_count": 9,
   "metadata": {},
   "outputs": [
    {
     "data": {
      "text/plain": [
       "93.33"
      ]
     },
     "execution_count": 9,
     "metadata": {},
     "output_type": "execute_result"
    }
   ],
   "source": [
    "dataset_raw.isnull().any().mean().round(4) * 100"
   ]
  },
  {
   "cell_type": "markdown",
   "metadata": {},
   "source": [
    "## Q4) Use the DataFrameImputer class defined above to impute values to rows with  missing values."
   ]
  },
  {
   "cell_type": "code",
   "execution_count": 12,
   "metadata": {},
   "outputs": [
    {
     "data": {
      "text/html": [
       "<div>\n",
       "<style scoped>\n",
       "    .dataframe tbody tr th:only-of-type {\n",
       "        vertical-align: middle;\n",
       "    }\n",
       "\n",
       "    .dataframe tbody tr th {\n",
       "        vertical-align: top;\n",
       "    }\n",
       "\n",
       "    .dataframe thead th {\n",
       "        text-align: right;\n",
       "    }\n",
       "</style>\n",
       "<table border=\"1\" class=\"dataframe\">\n",
       "  <thead>\n",
       "    <tr style=\"text-align: right;\">\n",
       "      <th></th>\n",
       "      <th>age</th>\n",
       "      <th>workclass</th>\n",
       "      <th>fnlwgt</th>\n",
       "      <th>education</th>\n",
       "      <th>education-num</th>\n",
       "      <th>marital-status</th>\n",
       "      <th>occupation</th>\n",
       "      <th>relationship</th>\n",
       "      <th>race</th>\n",
       "      <th>sex</th>\n",
       "      <th>capital-gain</th>\n",
       "      <th>capital-loss</th>\n",
       "      <th>hours-per-week</th>\n",
       "      <th>native-country</th>\n",
       "      <th>predclass</th>\n",
       "    </tr>\n",
       "  </thead>\n",
       "  <tbody>\n",
       "    <tr>\n",
       "      <th>0</th>\n",
       "      <td>39</td>\n",
       "      <td>State-gov</td>\n",
       "      <td>77516.0</td>\n",
       "      <td>Bachelors</td>\n",
       "      <td>13.0</td>\n",
       "      <td>Never-married</td>\n",
       "      <td>Adm-clerical</td>\n",
       "      <td>Not-in-family</td>\n",
       "      <td>White</td>\n",
       "      <td>Male</td>\n",
       "      <td>2174.0</td>\n",
       "      <td>0.0</td>\n",
       "      <td>40.0</td>\n",
       "      <td>United-States</td>\n",
       "      <td>&lt;=50K</td>\n",
       "    </tr>\n",
       "    <tr>\n",
       "      <th>1</th>\n",
       "      <td>50</td>\n",
       "      <td>Self-emp-not-inc</td>\n",
       "      <td>83311.0</td>\n",
       "      <td>Bachelors</td>\n",
       "      <td>13.0</td>\n",
       "      <td>Married-civ-spouse</td>\n",
       "      <td>Exec-managerial</td>\n",
       "      <td>Husband</td>\n",
       "      <td>White</td>\n",
       "      <td>Male</td>\n",
       "      <td>0.0</td>\n",
       "      <td>0.0</td>\n",
       "      <td>13.0</td>\n",
       "      <td>United-States</td>\n",
       "      <td>&lt;=50K</td>\n",
       "    </tr>\n",
       "    <tr>\n",
       "      <th>2</th>\n",
       "      <td>38</td>\n",
       "      <td>Private</td>\n",
       "      <td>215646.0</td>\n",
       "      <td>HS-grad</td>\n",
       "      <td>9.0</td>\n",
       "      <td>Divorced</td>\n",
       "      <td>Handlers-cleaners</td>\n",
       "      <td>Not-in-family</td>\n",
       "      <td>White</td>\n",
       "      <td>Male</td>\n",
       "      <td>0.0</td>\n",
       "      <td>0.0</td>\n",
       "      <td>40.0</td>\n",
       "      <td>United-States</td>\n",
       "      <td>&lt;=50K</td>\n",
       "    </tr>\n",
       "  </tbody>\n",
       "</table>\n",
       "</div>"
      ],
      "text/plain": [
       "  age          workclass    fnlwgt   education  education-num  \\\n",
       "0  39          State-gov   77516.0   Bachelors           13.0   \n",
       "1  50   Self-emp-not-inc   83311.0   Bachelors           13.0   \n",
       "2  38            Private  215646.0     HS-grad            9.0   \n",
       "\n",
       "        marital-status          occupation    relationship    race    sex  \\\n",
       "0        Never-married        Adm-clerical   Not-in-family   White   Male   \n",
       "1   Married-civ-spouse     Exec-managerial         Husband   White   Male   \n",
       "2             Divorced   Handlers-cleaners   Not-in-family   White   Male   \n",
       "\n",
       "   capital-gain  capital-loss  hours-per-week  native-country predclass  \n",
       "0        2174.0           0.0            40.0   United-States     <=50K  \n",
       "1           0.0           0.0            13.0   United-States     <=50K  \n",
       "2           0.0           0.0            40.0   United-States     <=50K  "
      ]
     },
     "execution_count": 12,
     "metadata": {},
     "output_type": "execute_result"
    }
   ],
   "source": [
    "newDF = dataset_raw\n",
    "newDF.head(3)"
   ]
  },
  {
   "cell_type": "code",
   "execution_count": 13,
   "metadata": {},
   "outputs": [
    {
     "name": "stdout",
     "output_type": "stream",
     "text": [
      "before...\n",
      "      age          workclass    fnlwgt      education  education-num  \\\n",
      "0      39          State-gov   77516.0      Bachelors           13.0   \n",
      "1      50   Self-emp-not-inc   83311.0      Bachelors           13.0   \n",
      "2      38            Private  215646.0        HS-grad            9.0   \n",
      "3      53            Private  234721.0           11th            7.0   \n",
      "4      28            Private  338409.0      Bachelors           13.0   \n",
      "5      37            Private  284582.0        Masters           14.0   \n",
      "6      49            Private  160187.0            9th            5.0   \n",
      "7      52   Self-emp-not-inc  209642.0        HS-grad            9.0   \n",
      "8      31            Private   45781.0        Masters           14.0   \n",
      "9      42            Private  159449.0      Bachelors           13.0   \n",
      "10     37            Private  280464.0   Some-college           10.0   \n",
      "11     30          State-gov  141297.0      Bachelors           13.0   \n",
      "12     23            Private  122272.0      Bachelors           13.0   \n",
      "13     32            Private  205019.0     Assoc-acdm           12.0   \n",
      "14     40            Private  121772.0      Assoc-voc           11.0   \n",
      "15     34            Private  245487.0        7th-8th            4.0   \n",
      "16     25   Self-emp-not-inc  176756.0        HS-grad            9.0   \n",
      "17     32            Private  186824.0        HS-grad            9.0   \n",
      "18     38            Private   28887.0           11th            7.0   \n",
      "19     43   Self-emp-not-inc  292175.0        Masters           14.0   \n",
      "20     40            Private  193524.0      Doctorate           16.0   \n",
      "21     54            Private  302146.0        HS-grad            9.0   \n",
      "22     35        Federal-gov   76845.0            9th            5.0   \n",
      "23     43            Private  117037.0           11th            7.0   \n",
      "24     59            Private  109015.0        HS-grad            9.0   \n",
      "25     56          Local-gov  216851.0      Bachelors           13.0   \n",
      "26     19            Private  168294.0        HS-grad            9.0   \n",
      "27     54                  ?  180211.0   Some-college           10.0   \n",
      "28     39            Private  367260.0        HS-grad            9.0   \n",
      "29     49            Private  193366.0        HS-grad            9.0   \n",
      "...    ..                ...       ...            ...            ...   \n",
      "48813  81                  ?   26711.0      Assoc-voc           11.0   \n",
      "48814  60            Private  117909.0      Assoc-voc           11.0   \n",
      "48815  39            Private  229647.0      Bachelors           13.0   \n",
      "48816  38            Private  149347.0        Masters           14.0   \n",
      "48817  43          Local-gov   23157.0        Masters           14.0   \n",
      "48818  23            Private   93977.0        HS-grad            9.0   \n",
      "48819  73       Self-emp-inc  159691.0   Some-college           10.0   \n",
      "48820  35            Private  176967.0   Some-college           10.0   \n",
      "48821  66            Private  344436.0        HS-grad            9.0   \n",
      "48822  27            Private  430340.0   Some-college           10.0   \n",
      "48823  40            Private  202168.0    Prof-school           15.0   \n",
      "48824  51            Private   82720.0        HS-grad            9.0   \n",
      "48825  22            Private  269623.0   Some-college           10.0   \n",
      "48826  64   Self-emp-not-inc  136405.0        HS-grad            9.0   \n",
      "48827  50          Local-gov  139347.0        Masters           14.0   \n",
      "48828  55            Private  224655.0        HS-grad            9.0   \n",
      "48829  38            Private  247547.0      Assoc-voc           11.0   \n",
      "48830  58            Private  292710.0     Assoc-acdm           12.0   \n",
      "48831  32            Private  173449.0        HS-grad            9.0   \n",
      "48832  48            Private  285570.0        HS-grad            9.0   \n",
      "48833  61            Private   89686.0        HS-grad            9.0   \n",
      "48834  31            Private  440129.0        HS-grad            9.0   \n",
      "48835  25            Private  350977.0        HS-grad            9.0   \n",
      "48836  48          Local-gov  349230.0        Masters           14.0   \n",
      "48837  33            Private  245211.0      Bachelors           13.0   \n",
      "48838  39            Private  215419.0      Bachelors           13.0   \n",
      "48839  64                  ?  321403.0        HS-grad            9.0   \n",
      "48840  38            Private  374983.0      Bachelors           13.0   \n",
      "48841  44            Private   83891.0      Bachelors           13.0   \n",
      "48842  35       Self-emp-inc  182148.0      Bachelors           13.0   \n",
      "\n",
      "               marital-status          occupation     relationship  \\\n",
      "0               Never-married        Adm-clerical    Not-in-family   \n",
      "1          Married-civ-spouse     Exec-managerial          Husband   \n",
      "2                    Divorced   Handlers-cleaners    Not-in-family   \n",
      "3          Married-civ-spouse   Handlers-cleaners          Husband   \n",
      "4          Married-civ-spouse      Prof-specialty             Wife   \n",
      "5          Married-civ-spouse     Exec-managerial             Wife   \n",
      "6       Married-spouse-absent       Other-service    Not-in-family   \n",
      "7          Married-civ-spouse     Exec-managerial          Husband   \n",
      "8               Never-married      Prof-specialty    Not-in-family   \n",
      "9          Married-civ-spouse     Exec-managerial          Husband   \n",
      "10         Married-civ-spouse     Exec-managerial          Husband   \n",
      "11         Married-civ-spouse      Prof-specialty          Husband   \n",
      "12              Never-married        Adm-clerical        Own-child   \n",
      "13              Never-married               Sales    Not-in-family   \n",
      "14         Married-civ-spouse        Craft-repair          Husband   \n",
      "15         Married-civ-spouse    Transport-moving          Husband   \n",
      "16              Never-married     Farming-fishing        Own-child   \n",
      "17              Never-married   Machine-op-inspct        Unmarried   \n",
      "18         Married-civ-spouse               Sales          Husband   \n",
      "19                   Divorced     Exec-managerial        Unmarried   \n",
      "20         Married-civ-spouse      Prof-specialty          Husband   \n",
      "21                  Separated       Other-service        Unmarried   \n",
      "22         Married-civ-spouse     Farming-fishing          Husband   \n",
      "23         Married-civ-spouse    Transport-moving          Husband   \n",
      "24                   Divorced        Tech-support        Unmarried   \n",
      "25         Married-civ-spouse        Tech-support          Husband   \n",
      "26              Never-married        Craft-repair        Own-child   \n",
      "27         Married-civ-spouse                   ?          Husband   \n",
      "28                   Divorced     Exec-managerial    Not-in-family   \n",
      "29         Married-civ-spouse        Craft-repair          Husband   \n",
      "...                       ...                 ...              ...   \n",
      "48813      Married-civ-spouse                   ?          Husband   \n",
      "48814      Married-civ-spouse      Prof-specialty          Husband   \n",
      "48815           Never-married        Tech-support    Not-in-family   \n",
      "48816      Married-civ-spouse      Prof-specialty          Husband   \n",
      "48817      Married-civ-spouse     Exec-managerial          Husband   \n",
      "48818           Never-married   Machine-op-inspct        Own-child   \n",
      "48819                Divorced     Exec-managerial    Not-in-family   \n",
      "48820      Married-civ-spouse     Protective-serv          Husband   \n",
      "48821                 Widowed               Sales   Other-relative   \n",
      "48822           Never-married               Sales    Not-in-family   \n",
      "48823      Married-civ-spouse      Prof-specialty          Husband   \n",
      "48824      Married-civ-spouse        Craft-repair          Husband   \n",
      "48825           Never-married        Craft-repair        Own-child   \n",
      "48826                 Widowed     Farming-fishing    Not-in-family   \n",
      "48827      Married-civ-spouse      Prof-specialty             Wife   \n",
      "48828               Separated     Priv-house-serv    Not-in-family   \n",
      "48829           Never-married        Adm-clerical        Unmarried   \n",
      "48830                Divorced      Prof-specialty    Not-in-family   \n",
      "48831      Married-civ-spouse   Handlers-cleaners          Husband   \n",
      "48832      Married-civ-spouse        Adm-clerical          Husband   \n",
      "48833      Married-civ-spouse               Sales          Husband   \n",
      "48834      Married-civ-spouse        Craft-repair          Husband   \n",
      "48835           Never-married       Other-service        Own-child   \n",
      "48836                Divorced       Other-service    Not-in-family   \n",
      "48837           Never-married      Prof-specialty        Own-child   \n",
      "48838                Divorced      Prof-specialty    Not-in-family   \n",
      "48839                 Widowed                   ?   Other-relative   \n",
      "48840      Married-civ-spouse      Prof-specialty          Husband   \n",
      "48841                Divorced        Adm-clerical        Own-child   \n",
      "48842      Married-civ-spouse     Exec-managerial          Husband   \n",
      "\n",
      "                      race      sex  capital-gain  capital-loss  \\\n",
      "0                    White     Male        2174.0           0.0   \n",
      "1                    White     Male           0.0           0.0   \n",
      "2                    White     Male           0.0           0.0   \n",
      "3                    Black     Male           0.0           0.0   \n",
      "4                    Black   Female           0.0           0.0   \n",
      "5                    White   Female           0.0           0.0   \n",
      "6                    Black   Female           0.0           0.0   \n",
      "7                    White     Male           0.0           0.0   \n",
      "8                    White   Female       14084.0           0.0   \n",
      "9                    White     Male        5178.0           0.0   \n",
      "10                   Black     Male           0.0           0.0   \n",
      "11      Asian-Pac-Islander     Male           0.0           0.0   \n",
      "12                   White   Female           0.0           0.0   \n",
      "13                   Black     Male           0.0           0.0   \n",
      "14      Asian-Pac-Islander     Male           0.0           0.0   \n",
      "15      Amer-Indian-Eskimo     Male           0.0           0.0   \n",
      "16                   White     Male           0.0           0.0   \n",
      "17                   White     Male           0.0           0.0   \n",
      "18                   White     Male           0.0           0.0   \n",
      "19                   White   Female           0.0           0.0   \n",
      "20                   White     Male           0.0           0.0   \n",
      "21                   Black   Female           0.0           0.0   \n",
      "22                   Black     Male           0.0           0.0   \n",
      "23                   White     Male           0.0        2042.0   \n",
      "24                   White   Female           0.0           0.0   \n",
      "25                   White     Male           0.0           0.0   \n",
      "26                   White     Male           0.0           0.0   \n",
      "27      Asian-Pac-Islander     Male           0.0           0.0   \n",
      "28                   White     Male           0.0           0.0   \n",
      "29                   White     Male           0.0           0.0   \n",
      "...                    ...      ...           ...           ...   \n",
      "48813                White     Male        2936.0           0.0   \n",
      "48814                White     Male        7688.0           0.0   \n",
      "48815                White   Female           0.0        1669.0   \n",
      "48816                White     Male           0.0           0.0   \n",
      "48817                White     Male           0.0        1902.0   \n",
      "48818                White     Male           0.0           0.0   \n",
      "48819                White   Female           0.0           0.0   \n",
      "48820                White     Male           0.0           0.0   \n",
      "48821                White   Female           0.0           0.0   \n",
      "48822                White   Female           0.0           0.0   \n",
      "48823                White     Male       15024.0           0.0   \n",
      "48824                White     Male           0.0           0.0   \n",
      "48825                White     Male           0.0           0.0   \n",
      "48826                White     Male           0.0           0.0   \n",
      "48827                White   Female           0.0           0.0   \n",
      "48828                White   Female           0.0           0.0   \n",
      "48829                Black   Female           0.0           0.0   \n",
      "48830                White     Male           0.0           0.0   \n",
      "48831                White     Male           0.0           0.0   \n",
      "48832                White     Male           0.0           0.0   \n",
      "48833                White     Male           0.0           0.0   \n",
      "48834                White     Male           0.0           0.0   \n",
      "48835                White   Female           0.0           0.0   \n",
      "48836                White     Male           0.0           0.0   \n",
      "48837                White     Male           0.0           0.0   \n",
      "48838                White   Female           0.0           0.0   \n",
      "48839                Black     Male           0.0           0.0   \n",
      "48840                White     Male           0.0           0.0   \n",
      "48841   Asian-Pac-Islander     Male        5455.0           0.0   \n",
      "48842                White     Male           0.0           0.0   \n",
      "\n",
      "       hours-per-week  native-country predclass  \n",
      "0                40.0   United-States     <=50K  \n",
      "1                13.0   United-States     <=50K  \n",
      "2                40.0   United-States     <=50K  \n",
      "3                40.0   United-States     <=50K  \n",
      "4                40.0            Cuba     <=50K  \n",
      "5                40.0   United-States     <=50K  \n",
      "6                16.0         Jamaica     <=50K  \n",
      "7                45.0   United-States      >50K  \n",
      "8                50.0   United-States      >50K  \n",
      "9                40.0   United-States      >50K  \n",
      "10               80.0   United-States      >50K  \n",
      "11               40.0           India      >50K  \n",
      "12               30.0   United-States     <=50K  \n",
      "13               50.0   United-States     <=50K  \n",
      "14               40.0               ?      >50K  \n",
      "15               45.0          Mexico     <=50K  \n",
      "16               35.0   United-States     <=50K  \n",
      "17               40.0   United-States     <=50K  \n",
      "18               50.0   United-States     <=50K  \n",
      "19               45.0   United-States      >50K  \n",
      "20               60.0   United-States      >50K  \n",
      "21               20.0   United-States     <=50K  \n",
      "22               40.0   United-States     <=50K  \n",
      "23               40.0   United-States     <=50K  \n",
      "24               40.0   United-States     <=50K  \n",
      "25               40.0   United-States      >50K  \n",
      "26               40.0   United-States     <=50K  \n",
      "27               60.0           South      >50K  \n",
      "28               80.0   United-States     <=50K  \n",
      "29               40.0   United-States     <=50K  \n",
      "...               ...             ...       ...  \n",
      "48813            20.0   United-States    <=50K.  \n",
      "48814            40.0   United-States     >50K.  \n",
      "48815            40.0   United-States    <=50K.  \n",
      "48816            50.0   United-States     >50K.  \n",
      "48817            50.0   United-States     >50K.  \n",
      "48818            40.0   United-States    <=50K.  \n",
      "48819            40.0   United-States    <=50K.  \n",
      "48820            40.0   United-States    <=50K.  \n",
      "48821             8.0   United-States    <=50K.  \n",
      "48822            45.0   United-States    <=50K.  \n",
      "48823            55.0   United-States     >50K.  \n",
      "48824            40.0   United-States    <=50K.  \n",
      "48825            40.0   United-States    <=50K.  \n",
      "48826            32.0   United-States    <=50K.  \n",
      "48827            40.0               ?     >50K.  \n",
      "48828            32.0   United-States    <=50K.  \n",
      "48829            40.0   United-States    <=50K.  \n",
      "48830            36.0   United-States    <=50K.  \n",
      "48831            40.0   United-States    <=50K.  \n",
      "48832            40.0   United-States    <=50K.  \n",
      "48833            48.0   United-States    <=50K.  \n",
      "48834            40.0   United-States    <=50K.  \n",
      "48835            40.0   United-States    <=50K.  \n",
      "48836            40.0   United-States    <=50K.  \n",
      "48837            40.0   United-States    <=50K.  \n",
      "48838            36.0   United-States    <=50K.  \n",
      "48839            40.0   United-States    <=50K.  \n",
      "48840            50.0   United-States    <=50K.  \n",
      "48841            40.0   United-States    <=50K.  \n",
      "48842            60.0   United-States     >50K.  \n",
      "\n",
      "[48843 rows x 15 columns]\n",
      "after...\n",
      "      age          workclass    fnlwgt      education  education-num  \\\n",
      "0      39          State-gov   77516.0      Bachelors           13.0   \n",
      "1      50   Self-emp-not-inc   83311.0      Bachelors           13.0   \n",
      "2      38            Private  215646.0        HS-grad            9.0   \n",
      "3      53            Private  234721.0           11th            7.0   \n",
      "4      28            Private  338409.0      Bachelors           13.0   \n",
      "5      37            Private  284582.0        Masters           14.0   \n",
      "6      49            Private  160187.0            9th            5.0   \n",
      "7      52   Self-emp-not-inc  209642.0        HS-grad            9.0   \n",
      "8      31            Private   45781.0        Masters           14.0   \n",
      "9      42            Private  159449.0      Bachelors           13.0   \n",
      "10     37            Private  280464.0   Some-college           10.0   \n",
      "11     30          State-gov  141297.0      Bachelors           13.0   \n",
      "12     23            Private  122272.0      Bachelors           13.0   \n",
      "13     32            Private  205019.0     Assoc-acdm           12.0   \n",
      "14     40            Private  121772.0      Assoc-voc           11.0   \n",
      "15     34            Private  245487.0        7th-8th            4.0   \n",
      "16     25   Self-emp-not-inc  176756.0        HS-grad            9.0   \n",
      "17     32            Private  186824.0        HS-grad            9.0   \n",
      "18     38            Private   28887.0           11th            7.0   \n",
      "19     43   Self-emp-not-inc  292175.0        Masters           14.0   \n",
      "20     40            Private  193524.0      Doctorate           16.0   \n",
      "21     54            Private  302146.0        HS-grad            9.0   \n",
      "22     35        Federal-gov   76845.0            9th            5.0   \n",
      "23     43            Private  117037.0           11th            7.0   \n",
      "24     59            Private  109015.0        HS-grad            9.0   \n",
      "25     56          Local-gov  216851.0      Bachelors           13.0   \n",
      "26     19            Private  168294.0        HS-grad            9.0   \n",
      "27     54                  ?  180211.0   Some-college           10.0   \n",
      "28     39            Private  367260.0        HS-grad            9.0   \n",
      "29     49            Private  193366.0        HS-grad            9.0   \n",
      "...    ..                ...       ...            ...            ...   \n",
      "48813  81                  ?   26711.0      Assoc-voc           11.0   \n",
      "48814  60            Private  117909.0      Assoc-voc           11.0   \n",
      "48815  39            Private  229647.0      Bachelors           13.0   \n",
      "48816  38            Private  149347.0        Masters           14.0   \n",
      "48817  43          Local-gov   23157.0        Masters           14.0   \n",
      "48818  23            Private   93977.0        HS-grad            9.0   \n",
      "48819  73       Self-emp-inc  159691.0   Some-college           10.0   \n",
      "48820  35            Private  176967.0   Some-college           10.0   \n",
      "48821  66            Private  344436.0        HS-grad            9.0   \n",
      "48822  27            Private  430340.0   Some-college           10.0   \n",
      "48823  40            Private  202168.0    Prof-school           15.0   \n",
      "48824  51            Private   82720.0        HS-grad            9.0   \n",
      "48825  22            Private  269623.0   Some-college           10.0   \n",
      "48826  64   Self-emp-not-inc  136405.0        HS-grad            9.0   \n",
      "48827  50          Local-gov  139347.0        Masters           14.0   \n",
      "48828  55            Private  224655.0        HS-grad            9.0   \n",
      "48829  38            Private  247547.0      Assoc-voc           11.0   \n",
      "48830  58            Private  292710.0     Assoc-acdm           12.0   \n",
      "48831  32            Private  173449.0        HS-grad            9.0   \n",
      "48832  48            Private  285570.0        HS-grad            9.0   \n",
      "48833  61            Private   89686.0        HS-grad            9.0   \n",
      "48834  31            Private  440129.0        HS-grad            9.0   \n",
      "48835  25            Private  350977.0        HS-grad            9.0   \n",
      "48836  48          Local-gov  349230.0        Masters           14.0   \n",
      "48837  33            Private  245211.0      Bachelors           13.0   \n",
      "48838  39            Private  215419.0      Bachelors           13.0   \n",
      "48839  64                  ?  321403.0        HS-grad            9.0   \n",
      "48840  38            Private  374983.0      Bachelors           13.0   \n",
      "48841  44            Private   83891.0      Bachelors           13.0   \n",
      "48842  35       Self-emp-inc  182148.0      Bachelors           13.0   \n",
      "\n",
      "               marital-status          occupation     relationship  \\\n",
      "0               Never-married        Adm-clerical    Not-in-family   \n",
      "1          Married-civ-spouse     Exec-managerial          Husband   \n",
      "2                    Divorced   Handlers-cleaners    Not-in-family   \n",
      "3          Married-civ-spouse   Handlers-cleaners          Husband   \n",
      "4          Married-civ-spouse      Prof-specialty             Wife   \n",
      "5          Married-civ-spouse     Exec-managerial             Wife   \n",
      "6       Married-spouse-absent       Other-service    Not-in-family   \n",
      "7          Married-civ-spouse     Exec-managerial          Husband   \n",
      "8               Never-married      Prof-specialty    Not-in-family   \n",
      "9          Married-civ-spouse     Exec-managerial          Husband   \n",
      "10         Married-civ-spouse     Exec-managerial          Husband   \n",
      "11         Married-civ-spouse      Prof-specialty          Husband   \n",
      "12              Never-married        Adm-clerical        Own-child   \n",
      "13              Never-married               Sales    Not-in-family   \n",
      "14         Married-civ-spouse        Craft-repair          Husband   \n",
      "15         Married-civ-spouse    Transport-moving          Husband   \n",
      "16              Never-married     Farming-fishing        Own-child   \n",
      "17              Never-married   Machine-op-inspct        Unmarried   \n",
      "18         Married-civ-spouse               Sales          Husband   \n",
      "19                   Divorced     Exec-managerial        Unmarried   \n",
      "20         Married-civ-spouse      Prof-specialty          Husband   \n",
      "21                  Separated       Other-service        Unmarried   \n",
      "22         Married-civ-spouse     Farming-fishing          Husband   \n",
      "23         Married-civ-spouse    Transport-moving          Husband   \n",
      "24                   Divorced        Tech-support        Unmarried   \n",
      "25         Married-civ-spouse        Tech-support          Husband   \n",
      "26              Never-married        Craft-repair        Own-child   \n",
      "27         Married-civ-spouse                   ?          Husband   \n",
      "28                   Divorced     Exec-managerial    Not-in-family   \n",
      "29         Married-civ-spouse        Craft-repair          Husband   \n",
      "...                       ...                 ...              ...   \n",
      "48813      Married-civ-spouse                   ?          Husband   \n",
      "48814      Married-civ-spouse      Prof-specialty          Husband   \n",
      "48815           Never-married        Tech-support    Not-in-family   \n",
      "48816      Married-civ-spouse      Prof-specialty          Husband   \n",
      "48817      Married-civ-spouse     Exec-managerial          Husband   \n",
      "48818           Never-married   Machine-op-inspct        Own-child   \n",
      "48819                Divorced     Exec-managerial    Not-in-family   \n",
      "48820      Married-civ-spouse     Protective-serv          Husband   \n",
      "48821                 Widowed               Sales   Other-relative   \n",
      "48822           Never-married               Sales    Not-in-family   \n",
      "48823      Married-civ-spouse      Prof-specialty          Husband   \n",
      "48824      Married-civ-spouse        Craft-repair          Husband   \n",
      "48825           Never-married        Craft-repair        Own-child   \n",
      "48826                 Widowed     Farming-fishing    Not-in-family   \n",
      "48827      Married-civ-spouse      Prof-specialty             Wife   \n",
      "48828               Separated     Priv-house-serv    Not-in-family   \n",
      "48829           Never-married        Adm-clerical        Unmarried   \n",
      "48830                Divorced      Prof-specialty    Not-in-family   \n",
      "48831      Married-civ-spouse   Handlers-cleaners          Husband   \n",
      "48832      Married-civ-spouse        Adm-clerical          Husband   \n",
      "48833      Married-civ-spouse               Sales          Husband   \n",
      "48834      Married-civ-spouse        Craft-repair          Husband   \n",
      "48835           Never-married       Other-service        Own-child   \n",
      "48836                Divorced       Other-service    Not-in-family   \n",
      "48837           Never-married      Prof-specialty        Own-child   \n",
      "48838                Divorced      Prof-specialty    Not-in-family   \n",
      "48839                 Widowed                   ?   Other-relative   \n",
      "48840      Married-civ-spouse      Prof-specialty          Husband   \n",
      "48841                Divorced        Adm-clerical        Own-child   \n",
      "48842      Married-civ-spouse     Exec-managerial          Husband   \n",
      "\n",
      "                      race      sex  capital-gain  capital-loss  \\\n",
      "0                    White     Male        2174.0           0.0   \n",
      "1                    White     Male           0.0           0.0   \n",
      "2                    White     Male           0.0           0.0   \n",
      "3                    Black     Male           0.0           0.0   \n",
      "4                    Black   Female           0.0           0.0   \n",
      "5                    White   Female           0.0           0.0   \n",
      "6                    Black   Female           0.0           0.0   \n",
      "7                    White     Male           0.0           0.0   \n",
      "8                    White   Female       14084.0           0.0   \n",
      "9                    White     Male        5178.0           0.0   \n",
      "10                   Black     Male           0.0           0.0   \n",
      "11      Asian-Pac-Islander     Male           0.0           0.0   \n",
      "12                   White   Female           0.0           0.0   \n",
      "13                   Black     Male           0.0           0.0   \n",
      "14      Asian-Pac-Islander     Male           0.0           0.0   \n",
      "15      Amer-Indian-Eskimo     Male           0.0           0.0   \n",
      "16                   White     Male           0.0           0.0   \n",
      "17                   White     Male           0.0           0.0   \n",
      "18                   White     Male           0.0           0.0   \n",
      "19                   White   Female           0.0           0.0   \n",
      "20                   White     Male           0.0           0.0   \n",
      "21                   Black   Female           0.0           0.0   \n",
      "22                   Black     Male           0.0           0.0   \n",
      "23                   White     Male           0.0        2042.0   \n",
      "24                   White   Female           0.0           0.0   \n",
      "25                   White     Male           0.0           0.0   \n",
      "26                   White     Male           0.0           0.0   \n",
      "27      Asian-Pac-Islander     Male           0.0           0.0   \n",
      "28                   White     Male           0.0           0.0   \n",
      "29                   White     Male           0.0           0.0   \n",
      "...                    ...      ...           ...           ...   \n",
      "48813                White     Male        2936.0           0.0   \n",
      "48814                White     Male        7688.0           0.0   \n",
      "48815                White   Female           0.0        1669.0   \n",
      "48816                White     Male           0.0           0.0   \n",
      "48817                White     Male           0.0        1902.0   \n",
      "48818                White     Male           0.0           0.0   \n",
      "48819                White   Female           0.0           0.0   \n",
      "48820                White     Male           0.0           0.0   \n",
      "48821                White   Female           0.0           0.0   \n",
      "48822                White   Female           0.0           0.0   \n",
      "48823                White     Male       15024.0           0.0   \n",
      "48824                White     Male           0.0           0.0   \n",
      "48825                White     Male           0.0           0.0   \n",
      "48826                White     Male           0.0           0.0   \n",
      "48827                White   Female           0.0           0.0   \n",
      "48828                White   Female           0.0           0.0   \n",
      "48829                Black   Female           0.0           0.0   \n",
      "48830                White     Male           0.0           0.0   \n",
      "48831                White     Male           0.0           0.0   \n",
      "48832                White     Male           0.0           0.0   \n",
      "48833                White     Male           0.0           0.0   \n",
      "48834                White     Male           0.0           0.0   \n",
      "48835                White   Female           0.0           0.0   \n",
      "48836                White     Male           0.0           0.0   \n",
      "48837                White     Male           0.0           0.0   \n",
      "48838                White   Female           0.0           0.0   \n",
      "48839                Black     Male           0.0           0.0   \n",
      "48840                White     Male           0.0           0.0   \n",
      "48841   Asian-Pac-Islander     Male        5455.0           0.0   \n",
      "48842                White     Male           0.0           0.0   \n",
      "\n",
      "       hours-per-week  native-country predclass  \n",
      "0                40.0   United-States     <=50K  \n",
      "1                13.0   United-States     <=50K  \n",
      "2                40.0   United-States     <=50K  \n",
      "3                40.0   United-States     <=50K  \n",
      "4                40.0            Cuba     <=50K  \n",
      "5                40.0   United-States     <=50K  \n",
      "6                16.0         Jamaica     <=50K  \n",
      "7                45.0   United-States      >50K  \n",
      "8                50.0   United-States      >50K  \n",
      "9                40.0   United-States      >50K  \n",
      "10               80.0   United-States      >50K  \n",
      "11               40.0           India      >50K  \n",
      "12               30.0   United-States     <=50K  \n",
      "13               50.0   United-States     <=50K  \n",
      "14               40.0               ?      >50K  \n",
      "15               45.0          Mexico     <=50K  \n",
      "16               35.0   United-States     <=50K  \n",
      "17               40.0   United-States     <=50K  \n",
      "18               50.0   United-States     <=50K  \n",
      "19               45.0   United-States      >50K  \n",
      "20               60.0   United-States      >50K  \n",
      "21               20.0   United-States     <=50K  \n",
      "22               40.0   United-States     <=50K  \n",
      "23               40.0   United-States     <=50K  \n",
      "24               40.0   United-States     <=50K  \n",
      "25               40.0   United-States      >50K  \n",
      "26               40.0   United-States     <=50K  \n",
      "27               60.0           South      >50K  \n",
      "28               80.0   United-States     <=50K  \n",
      "29               40.0   United-States     <=50K  \n",
      "...               ...             ...       ...  \n",
      "48813            20.0   United-States    <=50K.  \n",
      "48814            40.0   United-States     >50K.  \n",
      "48815            40.0   United-States    <=50K.  \n",
      "48816            50.0   United-States     >50K.  \n",
      "48817            50.0   United-States     >50K.  \n",
      "48818            40.0   United-States    <=50K.  \n",
      "48819            40.0   United-States    <=50K.  \n",
      "48820            40.0   United-States    <=50K.  \n",
      "48821             8.0   United-States    <=50K.  \n",
      "48822            45.0   United-States    <=50K.  \n",
      "48823            55.0   United-States     >50K.  \n",
      "48824            40.0   United-States    <=50K.  \n",
      "48825            40.0   United-States    <=50K.  \n",
      "48826            32.0   United-States    <=50K.  \n",
      "48827            40.0               ?     >50K.  \n",
      "48828            32.0   United-States    <=50K.  \n",
      "48829            40.0   United-States    <=50K.  \n",
      "48830            36.0   United-States    <=50K.  \n",
      "48831            40.0   United-States    <=50K.  \n",
      "48832            40.0   United-States    <=50K.  \n",
      "48833            48.0   United-States    <=50K.  \n",
      "48834            40.0   United-States    <=50K.  \n",
      "48835            40.0   United-States    <=50K.  \n",
      "48836            40.0   United-States    <=50K.  \n",
      "48837            40.0   United-States    <=50K.  \n",
      "48838            36.0   United-States    <=50K.  \n",
      "48839            40.0   United-States    <=50K.  \n",
      "48840            50.0   United-States    <=50K.  \n",
      "48841            40.0   United-States    <=50K.  \n",
      "48842            60.0   United-States     >50K.  \n",
      "\n",
      "[48843 rows x 15 columns]\n"
     ]
    }
   ],
   "source": [
    "X = pd.DataFrame(newDF)\n",
    "xt = DataFrameImputer().fit_transform(X)\n",
    "\n",
    "print('before...')\n",
    "print(X)\n",
    "print('after...')\n",
    "print(xt)"
   ]
  },
  {
   "cell_type": "markdown",
   "metadata": {},
   "source": [
    "## Q5) Use appropriate formatting for all columns"
   ]
  },
  {
   "cell_type": "code",
   "execution_count": 15,
   "metadata": {},
   "outputs": [
    {
     "data": {
      "text/html": [
       "<div>\n",
       "<style scoped>\n",
       "    .dataframe tbody tr th:only-of-type {\n",
       "        vertical-align: middle;\n",
       "    }\n",
       "\n",
       "    .dataframe tbody tr th {\n",
       "        vertical-align: top;\n",
       "    }\n",
       "\n",
       "    .dataframe thead th {\n",
       "        text-align: right;\n",
       "    }\n",
       "</style>\n",
       "<table border=\"1\" class=\"dataframe\">\n",
       "  <thead>\n",
       "    <tr style=\"text-align: right;\">\n",
       "      <th></th>\n",
       "      <th>age</th>\n",
       "      <th>workclass</th>\n",
       "      <th>fnlwgt</th>\n",
       "      <th>education</th>\n",
       "      <th>education-num</th>\n",
       "      <th>marital-status</th>\n",
       "      <th>occupation</th>\n",
       "      <th>relationship</th>\n",
       "      <th>race</th>\n",
       "      <th>sex</th>\n",
       "      <th>capital-gain</th>\n",
       "      <th>capital-loss</th>\n",
       "      <th>hours-per-week</th>\n",
       "      <th>native-country</th>\n",
       "      <th>predclass</th>\n",
       "    </tr>\n",
       "  </thead>\n",
       "  <tbody>\n",
       "    <tr>\n",
       "      <th>0</th>\n",
       "      <td>39</td>\n",
       "      <td>State-gov</td>\n",
       "      <td>77516.0</td>\n",
       "      <td>Bachelors</td>\n",
       "      <td>13.0</td>\n",
       "      <td>Never-married</td>\n",
       "      <td>Adm-clerical</td>\n",
       "      <td>Not-in-family</td>\n",
       "      <td>White</td>\n",
       "      <td>Male</td>\n",
       "      <td>2174.0</td>\n",
       "      <td>0.0</td>\n",
       "      <td>40.0</td>\n",
       "      <td>United-States</td>\n",
       "      <td>&lt;=50K</td>\n",
       "    </tr>\n",
       "    <tr>\n",
       "      <th>1</th>\n",
       "      <td>50</td>\n",
       "      <td>Self-emp-not-inc</td>\n",
       "      <td>83311.0</td>\n",
       "      <td>Bachelors</td>\n",
       "      <td>13.0</td>\n",
       "      <td>Married-civ-spouse</td>\n",
       "      <td>Exec-managerial</td>\n",
       "      <td>Husband</td>\n",
       "      <td>White</td>\n",
       "      <td>Male</td>\n",
       "      <td>0.0</td>\n",
       "      <td>0.0</td>\n",
       "      <td>13.0</td>\n",
       "      <td>United-States</td>\n",
       "      <td>&lt;=50K</td>\n",
       "    </tr>\n",
       "    <tr>\n",
       "      <th>2</th>\n",
       "      <td>38</td>\n",
       "      <td>Private</td>\n",
       "      <td>215646.0</td>\n",
       "      <td>HS-grad</td>\n",
       "      <td>9.0</td>\n",
       "      <td>Divorced</td>\n",
       "      <td>Handlers-cleaners</td>\n",
       "      <td>Not-in-family</td>\n",
       "      <td>White</td>\n",
       "      <td>Male</td>\n",
       "      <td>0.0</td>\n",
       "      <td>0.0</td>\n",
       "      <td>40.0</td>\n",
       "      <td>United-States</td>\n",
       "      <td>&lt;=50K</td>\n",
       "    </tr>\n",
       "    <tr>\n",
       "      <th>3</th>\n",
       "      <td>53</td>\n",
       "      <td>Private</td>\n",
       "      <td>234721.0</td>\n",
       "      <td>11th</td>\n",
       "      <td>7.0</td>\n",
       "      <td>Married-civ-spouse</td>\n",
       "      <td>Handlers-cleaners</td>\n",
       "      <td>Husband</td>\n",
       "      <td>Black</td>\n",
       "      <td>Male</td>\n",
       "      <td>0.0</td>\n",
       "      <td>0.0</td>\n",
       "      <td>40.0</td>\n",
       "      <td>United-States</td>\n",
       "      <td>&lt;=50K</td>\n",
       "    </tr>\n",
       "    <tr>\n",
       "      <th>4</th>\n",
       "      <td>28</td>\n",
       "      <td>Private</td>\n",
       "      <td>338409.0</td>\n",
       "      <td>Bachelors</td>\n",
       "      <td>13.0</td>\n",
       "      <td>Married-civ-spouse</td>\n",
       "      <td>Prof-specialty</td>\n",
       "      <td>Wife</td>\n",
       "      <td>Black</td>\n",
       "      <td>Female</td>\n",
       "      <td>0.0</td>\n",
       "      <td>0.0</td>\n",
       "      <td>40.0</td>\n",
       "      <td>Cuba</td>\n",
       "      <td>&lt;=50K</td>\n",
       "    </tr>\n",
       "  </tbody>\n",
       "</table>\n",
       "</div>"
      ],
      "text/plain": [
       "  age          workclass    fnlwgt   education  education-num  \\\n",
       "0  39          State-gov   77516.0   Bachelors           13.0   \n",
       "1  50   Self-emp-not-inc   83311.0   Bachelors           13.0   \n",
       "2  38            Private  215646.0     HS-grad            9.0   \n",
       "3  53            Private  234721.0        11th            7.0   \n",
       "4  28            Private  338409.0   Bachelors           13.0   \n",
       "\n",
       "        marital-status         occupation    relationship    race      sex  \\\n",
       "0        Never-married       Adm-clerical   Not-in-family   White     Male   \n",
       "1   Married-civ-spouse    Exec-managerial         Husband   White     Male   \n",
       "2             Divorced  Handlers-cleaners   Not-in-family   White     Male   \n",
       "3   Married-civ-spouse  Handlers-cleaners         Husband   Black     Male   \n",
       "4   Married-civ-spouse     Prof-specialty            Wife   Black   Female   \n",
       "\n",
       "   capital-gain  capital-loss  hours-per-week  native-country predclass  \n",
       "0        2174.0           0.0            40.0   United-States     <=50K  \n",
       "1           0.0           0.0            13.0   United-States     <=50K  \n",
       "2           0.0           0.0            40.0   United-States     <=50K  \n",
       "3           0.0           0.0            40.0   United-States     <=50K  \n",
       "4           0.0           0.0            40.0            Cuba     <=50K  "
      ]
     },
     "execution_count": 15,
     "metadata": {},
     "output_type": "execute_result"
    }
   ],
   "source": [
    "dataset_raw['occupation'].unique()\n",
    "dataset_raw['occupation'] = dataset_raw['occupation'].apply(lambda x : str(x).strip())\n",
    "dataset_raw.head()"
   ]
  }
 ],
 "metadata": {
  "kernelspec": {
   "display_name": "Python 3",
   "language": "python",
   "name": "python3"
  },
  "language_info": {
   "codemirror_mode": {
    "name": "ipython",
    "version": 3
   },
   "file_extension": ".py",
   "mimetype": "text/x-python",
   "name": "python",
   "nbconvert_exporter": "python",
   "pygments_lexer": "ipython3",
   "version": "3.7.3"
  }
 },
 "nbformat": 4,
 "nbformat_minor": 2
}
